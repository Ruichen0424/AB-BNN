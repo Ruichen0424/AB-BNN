{
 "cells": [
  {
   "cell_type": "code",
   "execution_count": null,
   "id": "29297ee1",
   "metadata": {},
   "outputs": [],
   "source": [
    "import sys\n",
    "sys.path.append('../')\n",
    "import os\n",
    "os.environ[\"CUDA_VISIBLE_DEVICES\"] = '0'\n",
    "\n",
    "import torch\n",
    "import numpy as np\n",
    "from tqdm import tqdm\n",
    "from torchvision import datasets, transforms\n",
    "\n",
    "from Network.ReActNet_18_Qaw import *\n",
    "from Network.ReActNet_A_Qaw import *\n",
    "from Network.utils import *"
   ]
  },
  {
   "cell_type": "code",
   "execution_count": null,
   "id": "af46dcca",
   "metadata": {},
   "outputs": [],
   "source": [
    "model = 'resnet18'\n",
    "# model = 'resnet34'\n",
    "# model = 'resneta'"
   ]
  },
  {
   "cell_type": "code",
   "execution_count": null,
   "id": "db7ba8c0",
   "metadata": {},
   "outputs": [],
   "source": [
    "Dataset_path = '/ssd/Datasets/ImageNet/'\n",
    "Batch_size = 256\n",
    "Workers = 8\n",
    "Targetnum = 1000"
   ]
  },
  {
   "cell_type": "code",
   "execution_count": null,
   "id": "8a24b995",
   "metadata": {},
   "outputs": [],
   "source": [
    "_seed_ = 2023\n",
    "torch.manual_seed(_seed_)\n",
    "np.random.seed(_seed_)\n",
    "torch.backends.cudnn.benchmark = False\n",
    "torch.backends.cudnn.deterministic = True"
   ]
  },
  {
   "cell_type": "code",
   "execution_count": null,
   "id": "11d1faff",
   "metadata": {},
   "outputs": [],
   "source": [
    "transform_train = transforms.Compose([\n",
    "    transforms.RandomResizedCrop(224, scale=(0.08, 1.0)),\n",
    "    Lighting(0.1),\n",
    "    transforms.RandomHorizontalFlip(),\n",
    "    transforms.ToTensor(),\n",
    "    transforms.Normalize((0.485, 0.456, 0.406),(0.229, 0.224, 0.225))\n",
    "])\n",
    "\n",
    "transform_test = transforms.Compose([                      \n",
    "    transforms.Resize(256),\n",
    "    transforms.CenterCrop(224),\n",
    "    transforms.ToTensor(),\n",
    "    transforms.Normalize((0.485, 0.456, 0.406),(0.229, 0.224, 0.225))\n",
    "])\n",
    "\n",
    "Train_data = datasets.ImageFolder(root=Dataset_path+'train', transform=transform_train)\n",
    "Test_data = datasets.ImageFolder(root=Dataset_path+'val', transform=transform_test)\n",
    "\n",
    "train_data_loader = torch.utils.data.DataLoader(\n",
    "    dataset=Train_data,\n",
    "    batch_size=Batch_size,\n",
    "    shuffle=True,\n",
    "    num_workers=Workers, \n",
    "    pin_memory=True,\n",
    "    drop_last=True\n",
    ")\n",
    "\n",
    "test_data_loader = torch.utils.data.DataLoader(\n",
    "    dataset=Test_data,\n",
    "    batch_size=Batch_size,\n",
    "    shuffle=False,\n",
    "    num_workers=Workers, \n",
    "    pin_memory=True,\n",
    "    drop_last=False\n",
    ")"
   ]
  },
  {
   "cell_type": "code",
   "execution_count": null,
   "id": "92fb2064",
   "metadata": {},
   "outputs": [],
   "source": [
    "if model == 'resnet18':\n",
    "    net = ResNet18(num_classes=Targetnum, imagenet=True)\n",
    "    net_model_path = './models/imagenet_reactnet18_step2.h5'\n",
    "elif model == 'resnet34':\n",
    "    net = ResNet34(num_classes=Targetnum, imagenet=True)\n",
    "    net_model_path = './models/imagenet_reactnet34_step2.h5'\n",
    "elif model == 'resneta':\n",
    "    net = Reactnet(num_classes=Targetnum, imagenet=True)\n",
    "    net_model_path = './models/imagenet_reactneta_step2.h5'\n",
    "else:\n",
    "    raise ValueError('model error')\n",
    "\n",
    "net = torch.nn.DataParallel(net).cuda()\n",
    "net.load_state_dict(torch.load(net_model_path, weights_only=False))"
   ]
  },
  {
   "cell_type": "code",
   "execution_count": null,
   "id": "4998ffd5",
   "metadata": {
    "scrolled": true
   },
   "outputs": [],
   "source": [
    "Confusion_Matrix = torch.zeros((Targetnum, Targetnum))\n",
    "net.eval()\n",
    "with torch.no_grad():\n",
    "    for img, label in tqdm(test_data_loader):\n",
    "        img = img.cuda()\n",
    "        label = label.cuda()\n",
    "        out_fr = net(img)\n",
    "        guess = out_fr.argmax(1)\n",
    "        for j in range(len(label)):\n",
    "            Confusion_Matrix[label[j],guess[j]] += 1\n",
    "acc = Confusion_Matrix.diag()\n",
    "acc = acc.sum()/Confusion_Matrix.sum()\n",
    "print(f'Confusion_Matrix = \\n{Confusion_Matrix}')\n",
    "print(f'acc = {acc}')"
   ]
  }
 ],
 "metadata": {
  "kernelspec": {
   "display_name": "pytorch251",
   "language": "python",
   "name": "python3"
  },
  "language_info": {
   "codemirror_mode": {
    "name": "ipython",
    "version": 3
   },
   "file_extension": ".py",
   "mimetype": "text/x-python",
   "name": "python",
   "nbconvert_exporter": "python",
   "pygments_lexer": "ipython3",
   "version": "3.10.15"
  }
 },
 "nbformat": 4,
 "nbformat_minor": 5
}
